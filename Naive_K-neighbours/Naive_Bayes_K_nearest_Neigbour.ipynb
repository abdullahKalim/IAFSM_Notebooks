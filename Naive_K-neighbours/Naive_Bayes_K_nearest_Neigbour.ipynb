{
 "cells": [
  {
   "cell_type": "code",
   "execution_count": 6,
   "id": "446646af",
   "metadata": {},
   "outputs": [],
   "source": [
    "import numpy as np\n",
    "import pandas as pd\n",
    "import math\n",
    "import matplotlib.pyplot as plt\n",
    "import random"
   ]
  },
  {
   "cell_type": "code",
   "execution_count": 7,
   "id": "a94e2fbf",
   "metadata": {},
   "outputs": [
    {
     "data": {
      "text/html": [
       "<div>\n",
       "<style scoped>\n",
       "    .dataframe tbody tr th:only-of-type {\n",
       "        vertical-align: middle;\n",
       "    }\n",
       "\n",
       "    .dataframe tbody tr th {\n",
       "        vertical-align: top;\n",
       "    }\n",
       "\n",
       "    .dataframe thead th {\n",
       "        text-align: right;\n",
       "    }\n",
       "</style>\n",
       "<table border=\"1\" class=\"dataframe\">\n",
       "  <thead>\n",
       "    <tr style=\"text-align: right;\">\n",
       "      <th></th>\n",
       "      <th>PassengerId</th>\n",
       "      <th>Survived</th>\n",
       "      <th>Pclass</th>\n",
       "      <th>Name</th>\n",
       "      <th>Sex</th>\n",
       "      <th>Age</th>\n",
       "      <th>SibSp</th>\n",
       "      <th>Parch</th>\n",
       "      <th>Ticket</th>\n",
       "      <th>Fare</th>\n",
       "      <th>Cabin</th>\n",
       "      <th>Embarked</th>\n",
       "    </tr>\n",
       "  </thead>\n",
       "  <tbody>\n",
       "    <tr>\n",
       "      <th>0</th>\n",
       "      <td>1</td>\n",
       "      <td>0</td>\n",
       "      <td>3</td>\n",
       "      <td>Braund, Mr. Owen Harris</td>\n",
       "      <td>male</td>\n",
       "      <td>22.0</td>\n",
       "      <td>1</td>\n",
       "      <td>0</td>\n",
       "      <td>A/5 21171</td>\n",
       "      <td>7.2500</td>\n",
       "      <td>NaN</td>\n",
       "      <td>S</td>\n",
       "    </tr>\n",
       "    <tr>\n",
       "      <th>1</th>\n",
       "      <td>2</td>\n",
       "      <td>1</td>\n",
       "      <td>1</td>\n",
       "      <td>Cumings, Mrs. John Bradley (Florence Briggs Th...</td>\n",
       "      <td>female</td>\n",
       "      <td>38.0</td>\n",
       "      <td>1</td>\n",
       "      <td>0</td>\n",
       "      <td>PC 17599</td>\n",
       "      <td>71.2833</td>\n",
       "      <td>C85</td>\n",
       "      <td>C</td>\n",
       "    </tr>\n",
       "    <tr>\n",
       "      <th>2</th>\n",
       "      <td>3</td>\n",
       "      <td>1</td>\n",
       "      <td>3</td>\n",
       "      <td>Heikkinen, Miss. Laina</td>\n",
       "      <td>female</td>\n",
       "      <td>26.0</td>\n",
       "      <td>0</td>\n",
       "      <td>0</td>\n",
       "      <td>STON/O2. 3101282</td>\n",
       "      <td>7.9250</td>\n",
       "      <td>NaN</td>\n",
       "      <td>S</td>\n",
       "    </tr>\n",
       "    <tr>\n",
       "      <th>3</th>\n",
       "      <td>4</td>\n",
       "      <td>1</td>\n",
       "      <td>1</td>\n",
       "      <td>Futrelle, Mrs. Jacques Heath (Lily May Peel)</td>\n",
       "      <td>female</td>\n",
       "      <td>35.0</td>\n",
       "      <td>1</td>\n",
       "      <td>0</td>\n",
       "      <td>113803</td>\n",
       "      <td>53.1000</td>\n",
       "      <td>C123</td>\n",
       "      <td>S</td>\n",
       "    </tr>\n",
       "    <tr>\n",
       "      <th>4</th>\n",
       "      <td>5</td>\n",
       "      <td>0</td>\n",
       "      <td>3</td>\n",
       "      <td>Allen, Mr. William Henry</td>\n",
       "      <td>male</td>\n",
       "      <td>35.0</td>\n",
       "      <td>0</td>\n",
       "      <td>0</td>\n",
       "      <td>373450</td>\n",
       "      <td>8.0500</td>\n",
       "      <td>NaN</td>\n",
       "      <td>S</td>\n",
       "    </tr>\n",
       "  </tbody>\n",
       "</table>\n",
       "</div>"
      ],
      "text/plain": [
       "   PassengerId  Survived  Pclass  \\\n",
       "0            1         0       3   \n",
       "1            2         1       1   \n",
       "2            3         1       3   \n",
       "3            4         1       1   \n",
       "4            5         0       3   \n",
       "\n",
       "                                                Name     Sex   Age  SibSp  \\\n",
       "0                            Braund, Mr. Owen Harris    male  22.0      1   \n",
       "1  Cumings, Mrs. John Bradley (Florence Briggs Th...  female  38.0      1   \n",
       "2                             Heikkinen, Miss. Laina  female  26.0      0   \n",
       "3       Futrelle, Mrs. Jacques Heath (Lily May Peel)  female  35.0      1   \n",
       "4                           Allen, Mr. William Henry    male  35.0      0   \n",
       "\n",
       "   Parch            Ticket     Fare Cabin Embarked  \n",
       "0      0         A/5 21171   7.2500   NaN        S  \n",
       "1      0          PC 17599  71.2833   C85        C  \n",
       "2      0  STON/O2. 3101282   7.9250   NaN        S  \n",
       "3      0            113803  53.1000  C123        S  \n",
       "4      0            373450   8.0500   NaN        S  "
      ]
     },
     "execution_count": 7,
     "metadata": {},
     "output_type": "execute_result"
    }
   ],
   "source": [
    "df=pd.read_csv(\"C:\\\\Users\\\\hp\\\\Documents\\\\IAFSM_ML\\\\Naive_K-neighbours\\\\Dataset\\\\train.csv\")\n",
    "df.head()"
   ]
  },
  {
   "cell_type": "code",
   "execution_count": 180,
   "id": "7445ccf6",
   "metadata": {},
   "outputs": [],
   "source": [
    "X=df.drop([\"Survived\",\"Name\",\"PassengerId\",\"Ticket\",\"Cabin\"],axis=1)\n",
    "Y=df[\"Survived\"]"
   ]
  },
  {
   "cell_type": "code",
   "execution_count": 181,
   "id": "15b2f9ca",
   "metadata": {},
   "outputs": [
    {
     "data": {
      "text/html": [
       "<div>\n",
       "<style scoped>\n",
       "    .dataframe tbody tr th:only-of-type {\n",
       "        vertical-align: middle;\n",
       "    }\n",
       "\n",
       "    .dataframe tbody tr th {\n",
       "        vertical-align: top;\n",
       "    }\n",
       "\n",
       "    .dataframe thead th {\n",
       "        text-align: right;\n",
       "    }\n",
       "</style>\n",
       "<table border=\"1\" class=\"dataframe\">\n",
       "  <thead>\n",
       "    <tr style=\"text-align: right;\">\n",
       "      <th></th>\n",
       "      <th>Pclass</th>\n",
       "      <th>Sex</th>\n",
       "      <th>Age</th>\n",
       "      <th>SibSp</th>\n",
       "      <th>Parch</th>\n",
       "      <th>Fare</th>\n",
       "      <th>Embarked</th>\n",
       "    </tr>\n",
       "  </thead>\n",
       "  <tbody>\n",
       "    <tr>\n",
       "      <th>0</th>\n",
       "      <td>3</td>\n",
       "      <td>male</td>\n",
       "      <td>22.0</td>\n",
       "      <td>1</td>\n",
       "      <td>0</td>\n",
       "      <td>7.2500</td>\n",
       "      <td>S</td>\n",
       "    </tr>\n",
       "    <tr>\n",
       "      <th>1</th>\n",
       "      <td>1</td>\n",
       "      <td>female</td>\n",
       "      <td>38.0</td>\n",
       "      <td>1</td>\n",
       "      <td>0</td>\n",
       "      <td>71.2833</td>\n",
       "      <td>C</td>\n",
       "    </tr>\n",
       "    <tr>\n",
       "      <th>2</th>\n",
       "      <td>3</td>\n",
       "      <td>female</td>\n",
       "      <td>26.0</td>\n",
       "      <td>0</td>\n",
       "      <td>0</td>\n",
       "      <td>7.9250</td>\n",
       "      <td>S</td>\n",
       "    </tr>\n",
       "    <tr>\n",
       "      <th>3</th>\n",
       "      <td>1</td>\n",
       "      <td>female</td>\n",
       "      <td>35.0</td>\n",
       "      <td>1</td>\n",
       "      <td>0</td>\n",
       "      <td>53.1000</td>\n",
       "      <td>S</td>\n",
       "    </tr>\n",
       "    <tr>\n",
       "      <th>4</th>\n",
       "      <td>3</td>\n",
       "      <td>male</td>\n",
       "      <td>35.0</td>\n",
       "      <td>0</td>\n",
       "      <td>0</td>\n",
       "      <td>8.0500</td>\n",
       "      <td>S</td>\n",
       "    </tr>\n",
       "    <tr>\n",
       "      <th>...</th>\n",
       "      <td>...</td>\n",
       "      <td>...</td>\n",
       "      <td>...</td>\n",
       "      <td>...</td>\n",
       "      <td>...</td>\n",
       "      <td>...</td>\n",
       "      <td>...</td>\n",
       "    </tr>\n",
       "    <tr>\n",
       "      <th>886</th>\n",
       "      <td>2</td>\n",
       "      <td>male</td>\n",
       "      <td>27.0</td>\n",
       "      <td>0</td>\n",
       "      <td>0</td>\n",
       "      <td>13.0000</td>\n",
       "      <td>S</td>\n",
       "    </tr>\n",
       "    <tr>\n",
       "      <th>887</th>\n",
       "      <td>1</td>\n",
       "      <td>female</td>\n",
       "      <td>19.0</td>\n",
       "      <td>0</td>\n",
       "      <td>0</td>\n",
       "      <td>30.0000</td>\n",
       "      <td>S</td>\n",
       "    </tr>\n",
       "    <tr>\n",
       "      <th>888</th>\n",
       "      <td>3</td>\n",
       "      <td>female</td>\n",
       "      <td>NaN</td>\n",
       "      <td>1</td>\n",
       "      <td>2</td>\n",
       "      <td>23.4500</td>\n",
       "      <td>S</td>\n",
       "    </tr>\n",
       "    <tr>\n",
       "      <th>889</th>\n",
       "      <td>1</td>\n",
       "      <td>male</td>\n",
       "      <td>26.0</td>\n",
       "      <td>0</td>\n",
       "      <td>0</td>\n",
       "      <td>30.0000</td>\n",
       "      <td>C</td>\n",
       "    </tr>\n",
       "    <tr>\n",
       "      <th>890</th>\n",
       "      <td>3</td>\n",
       "      <td>male</td>\n",
       "      <td>32.0</td>\n",
       "      <td>0</td>\n",
       "      <td>0</td>\n",
       "      <td>7.7500</td>\n",
       "      <td>Q</td>\n",
       "    </tr>\n",
       "  </tbody>\n",
       "</table>\n",
       "<p>891 rows × 7 columns</p>\n",
       "</div>"
      ],
      "text/plain": [
       "     Pclass     Sex   Age  SibSp  Parch     Fare Embarked\n",
       "0         3    male  22.0      1      0   7.2500        S\n",
       "1         1  female  38.0      1      0  71.2833        C\n",
       "2         3  female  26.0      0      0   7.9250        S\n",
       "3         1  female  35.0      1      0  53.1000        S\n",
       "4         3    male  35.0      0      0   8.0500        S\n",
       "..      ...     ...   ...    ...    ...      ...      ...\n",
       "886       2    male  27.0      0      0  13.0000        S\n",
       "887       1  female  19.0      0      0  30.0000        S\n",
       "888       3  female   NaN      1      2  23.4500        S\n",
       "889       1    male  26.0      0      0  30.0000        C\n",
       "890       3    male  32.0      0      0   7.7500        Q\n",
       "\n",
       "[891 rows x 7 columns]"
      ]
     },
     "execution_count": 181,
     "metadata": {},
     "output_type": "execute_result"
    }
   ],
   "source": [
    "X"
   ]
  },
  {
   "cell_type": "code",
   "execution_count": 216,
   "id": "bb348895",
   "metadata": {},
   "outputs": [
    {
     "data": {
      "image/png": "[encoded data removed]",
      "text/plain": [
       "<Figure size 432x288 with 1 Axes>"
      ]
     },
     "metadata": {
      "needs_background": "light"
     },
     "output_type": "display_data"
    }
   ],
   "source": [
    "fig, ax = plt.subplots()\n",
    "scatter=ax.scatter(X[\"Age\"],X[\"Fare\"],c=X[\"Pclass\"])\n",
    "legend=ax.legend(*scatter.legend_elements(), loc=\"upper right\", title=\"PClasses\")\n",
    "ax.add_artist(legend)\n",
    "plt.show()"
   ]
  },
  {
   "cell_type": "code",
   "execution_count": 217,
   "id": "27f79a95",
   "metadata": {},
   "outputs": [
    {
     "data": {
      "image/png": "[encoded data removed]",
      "text/plain": [
       "<Figure size 432x288 with 1 Axes>"
      ]
     },
     "metadata": {
      "needs_background": "light"
     },
     "output_type": "display_data"
    }
   ],
   "source": [
    "fig, ax = plt.subplots()\n",
    "scatter=ax.scatter(X[\"Age\"],X[\"Fare\"],c=Y)\n",
    "legend=ax.legend(*scatter.legend_elements(), loc=\"upper right\", title=\"Survived\")\n",
    "ax.add_artist(legend)\n",
    "plt.show()"
   ]
  },
  {
   "cell_type": "code",
   "execution_count": 219,
   "id": "b46ff68c",
   "metadata": {},
   "outputs": [
    {
     "data": {
      "image/png": "[encoded data removed]",
      "text/plain": [
       "<Figure size 432x288 with 1 Axes>"
      ]
     },
     "metadata": {
      "needs_background": "light"
     },
     "output_type": "display_data"
    }
   ],
   "source": [
    "fig, ax = plt.subplots()\n",
    "scatter=ax.scatter(X[\"Age\"],X[\"Fare\"],c=X_kn[\"Sex\"])\n",
    "legend=ax.legend(*scatter.legend_elements(), loc=\"upper right\", title=\"Sex\")\n",
    "ax.add_artist(legend)\n",
    "plt.show()"
   ]
  },
  {
   "cell_type": "markdown",
   "id": "62267b0a",
   "metadata": {},
   "source": [
    "### From above graphs it can be concluded that most of the survivers are from 1st class and are females"
   ]
  },
  {
   "cell_type": "code",
   "execution_count": 21,
   "id": "ab5bb97d",
   "metadata": {},
   "outputs": [
    {
     "data": {
      "text/plain": [
       "Sex   \n",
       "male      577\n",
       "female    314\n",
       "dtype: int64"
      ]
     },
     "execution_count": 21,
     "metadata": {},
     "output_type": "execute_result"
    }
   ],
   "source": [
    "X[[\"Sex\"]].value_counts()"
   ]
  },
  {
   "cell_type": "code",
   "execution_count": 22,
   "id": "b0f9db8d",
   "metadata": {},
   "outputs": [
    {
     "data": {
      "text/plain": [
       "Embarked\n",
       "S           644\n",
       "C           168\n",
       "Q            77\n",
       "dtype: int64"
      ]
     },
     "execution_count": 22,
     "metadata": {},
     "output_type": "execute_result"
    }
   ],
   "source": [
    "X[[\"Embarked\"]].value_counts()"
   ]
  },
  {
   "cell_type": "code",
   "execution_count": 9,
   "id": "8e7f4727",
   "metadata": {},
   "outputs": [
    {
     "data": {
      "text/html": [
       "<div>\n",
       "<style scoped>\n",
       "    .dataframe tbody tr th:only-of-type {\n",
       "        vertical-align: middle;\n",
       "    }\n",
       "\n",
       "    .dataframe tbody tr th {\n",
       "        vertical-align: top;\n",
       "    }\n",
       "\n",
       "    .dataframe thead th {\n",
       "        text-align: right;\n",
       "    }\n",
       "</style>\n",
       "<table border=\"1\" class=\"dataframe\">\n",
       "  <thead>\n",
       "    <tr style=\"text-align: right;\">\n",
       "      <th></th>\n",
       "      <th>Pclass</th>\n",
       "      <th>Age</th>\n",
       "      <th>SibSp</th>\n",
       "      <th>Parch</th>\n",
       "      <th>Fare</th>\n",
       "    </tr>\n",
       "  </thead>\n",
       "  <tbody>\n",
       "    <tr>\n",
       "      <th>count</th>\n",
       "      <td>891.000000</td>\n",
       "      <td>714.000000</td>\n",
       "      <td>891.000000</td>\n",
       "      <td>891.000000</td>\n",
       "      <td>891.000000</td>\n",
       "    </tr>\n",
       "    <tr>\n",
       "      <th>mean</th>\n",
       "      <td>2.308642</td>\n",
       "      <td>29.699118</td>\n",
       "      <td>0.523008</td>\n",
       "      <td>0.381594</td>\n",
       "      <td>32.204208</td>\n",
       "    </tr>\n",
       "    <tr>\n",
       "      <th>std</th>\n",
       "      <td>0.836071</td>\n",
       "      <td>14.526497</td>\n",
       "      <td>1.102743</td>\n",
       "      <td>0.806057</td>\n",
       "      <td>49.693429</td>\n",
       "    </tr>\n",
       "    <tr>\n",
       "      <th>min</th>\n",
       "      <td>1.000000</td>\n",
       "      <td>0.420000</td>\n",
       "      <td>0.000000</td>\n",
       "      <td>0.000000</td>\n",
       "      <td>0.000000</td>\n",
       "    </tr>\n",
       "    <tr>\n",
       "      <th>25%</th>\n",
       "      <td>2.000000</td>\n",
       "      <td>20.125000</td>\n",
       "      <td>0.000000</td>\n",
       "      <td>0.000000</td>\n",
       "      <td>7.910400</td>\n",
       "    </tr>\n",
       "    <tr>\n",
       "      <th>50%</th>\n",
       "      <td>3.000000</td>\n",
       "      <td>28.000000</td>\n",
       "      <td>0.000000</td>\n",
       "      <td>0.000000</td>\n",
       "      <td>14.454200</td>\n",
       "    </tr>\n",
       "    <tr>\n",
       "      <th>75%</th>\n",
       "      <td>3.000000</td>\n",
       "      <td>38.000000</td>\n",
       "      <td>1.000000</td>\n",
       "      <td>0.000000</td>\n",
       "      <td>31.000000</td>\n",
       "    </tr>\n",
       "    <tr>\n",
       "      <th>max</th>\n",
       "      <td>3.000000</td>\n",
       "      <td>80.000000</td>\n",
       "      <td>8.000000</td>\n",
       "      <td>6.000000</td>\n",
       "      <td>512.329200</td>\n",
       "    </tr>\n",
       "  </tbody>\n",
       "</table>\n",
       "</div>"
      ],
      "text/plain": [
       "           Pclass         Age       SibSp       Parch        Fare\n",
       "count  891.000000  714.000000  891.000000  891.000000  891.000000\n",
       "mean     2.308642   29.699118    0.523008    0.381594   32.204208\n",
       "std      0.836071   14.526497    1.102743    0.806057   49.693429\n",
       "min      1.000000    0.420000    0.000000    0.000000    0.000000\n",
       "25%      2.000000   20.125000    0.000000    0.000000    7.910400\n",
       "50%      3.000000   28.000000    0.000000    0.000000   14.454200\n",
       "75%      3.000000   38.000000    1.000000    0.000000   31.000000\n",
       "max      3.000000   80.000000    8.000000    6.000000  512.329200"
      ]
     },
     "execution_count": 9,
     "metadata": {},
     "output_type": "execute_result"
    }
   ],
   "source": [
    "X.describe()"
   ]
  },
  {
   "cell_type": "code",
   "execution_count": 36,
   "id": "e76c1d11",
   "metadata": {},
   "outputs": [
    {
     "name": "stdout",
     "output_type": "stream",
     "text": [
      "0\n",
      "0\n",
      "177\n",
      "0\n",
      "0\n",
      "0\n",
      "2\n"
     ]
    }
   ],
   "source": [
    "for col in X.columns: ## Checking for columns with null values\n",
    "    print(X[col].isna().sum())"
   ]
  },
  {
   "cell_type": "markdown",
   "id": "235df7db",
   "metadata": {},
   "source": [
    "### Impute  null values with mean value of age"
   ]
  },
  {
   "cell_type": "code",
   "execution_count": 111,
   "id": "67229dc4",
   "metadata": {},
   "outputs": [],
   "source": [
    "def impute(X):\n",
    "    X[\"Age\"]=X[\"Age\"].fillna(29.666)\n",
    "    X[\"Fare\"]=X[\"Fare\"].fillna(32.204208)\n",
    "    X[\"Parch\"]=X[\"Parch\"].fillna(0)\n",
    "    X[\"SibSp\"]=X[\"SibSp\"].fillna(0)\n",
    "    X[\"Embarked\"]=X[\"Embarked\"].fillna('S')\n",
    "    X['Sex']=X[\"Sex\"].fillna(\"male\")\n",
    "    X[\"Pclass\"]=X[\"Pclass\"].fillna(3)\n",
    "    return X"
   ]
  },
  {
   "cell_type": "code",
   "execution_count": 182,
   "id": "1ab6f512",
   "metadata": {},
   "outputs": [],
   "source": [
    "X=impute(X)"
   ]
  },
  {
   "cell_type": "code",
   "execution_count": 39,
   "id": "b631dd67",
   "metadata": {},
   "outputs": [
    {
     "name": "stdout",
     "output_type": "stream",
     "text": [
      "0\n",
      "0\n",
      "0\n",
      "0\n",
      "0\n",
      "0\n",
      "0\n"
     ]
    }
   ],
   "source": [
    "for col in X.columns: ## Checking for columns with null values\n",
    "    print(X[col].isna().sum())"
   ]
  },
  {
   "cell_type": "code",
   "execution_count": 46,
   "id": "71028738",
   "metadata": {},
   "outputs": [],
   "source": [
    "X[\"Pclass\"]=X[\"Pclass\"].astype(\"str\")"
   ]
  },
  {
   "cell_type": "code",
   "execution_count": 48,
   "id": "155f8a4d",
   "metadata": {},
   "outputs": [],
   "source": [
    "cat_features=[0,1,6] #columns containing categorical value\n",
    "num_features=[2,3,4,5] # columns containing numerical values"
   ]
  },
  {
   "cell_type": "markdown",
   "id": "3cee6f4c",
   "metadata": {},
   "source": [
    "### Convert categorical value into integer values"
   ]
  },
  {
   "cell_type": "code",
   "execution_count": 193,
   "id": "33beb2b8",
   "metadata": {},
   "outputs": [],
   "source": [
    "def encoding(X):\n",
    "    # here label encoding was giving better results than one hot encoding hence it was used\n",
    "    #lable encoding acc=0.7247191011235955\n",
    "    #one hot encoding acc=0.6853932584269663\n",
    "    \"\"\"dummies=pd.get_dummies(X,columns=[\"Sex\",\"Embarked\"])\n",
    "    dummies=dummies.drop([\"Sex_female\"],axis=1)\"\"\"\n",
    "    for i in range(0,len(X)):\n",
    "        if(X[\"Sex\"][i]==\"male\"):\n",
    "            X[\"Sex\"][i]=1\n",
    "        else:\n",
    "            X[\"Sex\"][i]=0\n",
    "        if(X[\"Embarked\"][i]==\"S\"):\n",
    "            X[\"Embarked\"][i]=0\n",
    "        elif(X[\"Embarked\"][i]==\"Q\"):\n",
    "            X[\"Embarked\"][i]=1\n",
    "        elif(X[\"Embarked\"][i]==\"C\"):\n",
    "            X[\"Embarked\"][i]=2\n",
    "    \n",
    "    return X"
   ]
  },
  {
   "cell_type": "markdown",
   "id": "5e8f0695",
   "metadata": {},
   "source": [
    "### Separates the dataset in to a subset of data for each class."
   ]
  },
  {
   "cell_type": "code",
   "execution_count": 40,
   "id": "9a4c0f75",
   "metadata": {},
   "outputs": [],
   "source": [
    "def separate_classes( X, y):\n",
    "        separated_classes = {}\n",
    "        for i in range(len(X)):\n",
    "            feature_values = X[i]\n",
    "            class_name = y[i]\n",
    "            if class_name not in separated_classes:\n",
    "                separated_classes[class_name] = []\n",
    "            separated_classes[class_name].append(feature_values)\n",
    "        return separated_classes\n"
   ]
  },
  {
   "cell_type": "markdown",
   "id": "6ec54eea",
   "metadata": {},
   "source": [
    "### Get priors for categorical features by making the probabilty table"
   ]
  },
  {
   "cell_type": "code",
   "execution_count": 41,
   "id": "c12b51c5",
   "metadata": {},
   "outputs": [],
   "source": [
    "def get_priors(sep_data):\n",
    "    priors={}\n",
    "    for label in sep_data:\n",
    "        data=np.array(sep_data[label])\n",
    "        prior_list=[]\n",
    "        for feat in cat_features:\n",
    "            feature=data[:,feat]\n",
    "            feat_info=np.unique(feature,return_counts=True)\n",
    "            class_priors=dict(zip(feat_info[0],feat_info[1]))\n",
    "            for key in class_priors.keys():\n",
    "                class_priors[key]=class_priors[key]/len(data)\n",
    "            prior_list.append(class_priors)\n",
    "        priors[label]=prior_list\n",
    "    return priors"
   ]
  },
  {
   "cell_type": "markdown",
   "id": "9fba3ba3",
   "metadata": {},
   "source": [
    "### Calculates standard deviation and mean of features and returns a dictionary with STD and Mean as keys and assigned features STD and Mean as values."
   ]
  },
  {
   "cell_type": "code",
   "execution_count": 42,
   "id": "d909df91",
   "metadata": {},
   "outputs": [],
   "source": [
    "def stat(sep_data):\n",
    "    stats={}\n",
    "    for label in sep_data:\n",
    "        data=np.array(sep_data[label])\n",
    "        stats_list=[]\n",
    "        for feat in num_features:\n",
    "            feature=data[:,feat]\n",
    "            std=np.std(feature)\n",
    "            mean=np.mean(feature)\n",
    "            \n",
    "            stats_list.append(dict({\"std\":std,\"mean\":mean}))\n",
    "        stats[label]=stats_list\n",
    "    return stats"
   ]
  },
  {
   "attachments": {
    "image.png": {
     "image/png": "[encoded data removed]"
    }
   },
   "cell_type": "markdown",
   "id": "8e1a3429",
   "metadata": {},
   "source": [
    "### Calculate the Gaussian Distribution Function and return normal probability\n",
    "![image.png](attachment:image.png)\n",
    "\n",
    "#### We find priori for continuous varibale using the above formula"
   ]
  },
  {
   "cell_type": "code",
   "execution_count": 43,
   "id": "7d2cfec1",
   "metadata": {},
   "outputs": [],
   "source": [
    "def gaussian_distribution(std,mean,x):\n",
    "    \n",
    "        #x=x.astype(\"float32\")\n",
    "        #print(\"std=\",type(std),\"mean=\",type(mean),\"Value=\",type(x))\n",
    "        exponent = np.exp(-((x-mean)**2 / (2*std**2)))\n",
    "\n",
    "        return exponent / (np.sqrt(2*np.pi)*std)\n"
   ]
  },
  {
   "cell_type": "markdown",
   "id": "716e3c07",
   "metadata": {},
   "source": [
    "### Trains the model and returns a dictionary with the prior probability for categorical variables and mean, standard deviation for continous variables of each class"
   ]
  },
  {
   "cell_type": "code",
   "execution_count": 44,
   "id": "6a3fc451",
   "metadata": {},
   "outputs": [],
   "source": [
    "def fit(X,Y):\n",
    "    \n",
    "    sep_data=separate_classes(np.asarray(X),Y)\n",
    "    priors=get_priors(sep_data)\n",
    "    stat_info=stat(sep_data)\n",
    "    class_summary={}\n",
    "    m=X.shape[1]\n",
    "    for label in sep_data:\n",
    "        prior_lists=[]\n",
    "        for i in range(0,m):\n",
    "            if i in cat_features:\n",
    "                info=priors[label][cat_features.index(i)]\n",
    "            else:\n",
    "                info=stat_info[label][num_features.index(i)]\n",
    "            prior_lists.append(info)\n",
    "        likelihood=len(sep_data[label])/len(Y)\n",
    "        class_summary[label]={\"likelihood\":likelihood,\"summary\":prior_lists}\n",
    "    return class_summary"
   ]
  },
  {
   "cell_type": "markdown",
   "id": "25fb12de",
   "metadata": {},
   "source": [
    "### Predicts the labels by calculating prior of both continous and categorical variable by multiplying the and finding the probabiltiy using bayes theorm"
   ]
  },
  {
   "cell_type": "code",
   "execution_count": 51,
   "id": "abe5f0e9",
   "metadata": {},
   "outputs": [],
   "source": [
    "def predict(X_test):\n",
    "    y_pred=[]\n",
    "    for idx in range(0,len(X_test)):\n",
    "        class_prob={}\n",
    "        for label in class_summary:\n",
    "            likelihood=class_summary[label][\"likelihood\"]\n",
    "            m=X_test.shape[1]\n",
    "            priors=[]\n",
    "            for i in range(0,m):\n",
    "                if i in cat_features:\n",
    "                    p=class_summary[label][\"summary\"][i][X_test[idx,i]]\n",
    "                else:\n",
    "                    \n",
    "                    std=class_summary[label][\"summary\"][i][\"std\"]\n",
    "                    mean=class_summary[label][\"summary\"][i][\"mean\"]\n",
    "                    p=gaussian_distribution(std,mean,X_test[idx,i])\n",
    "                priors.append(p)\n",
    "            class_prob[label]=likelihood*np.prod(priors)\n",
    "        y_pred.append(max(class_prob, key=class_prob.get))\n",
    "            \n",
    "    \n",
    "    return y_pred"
   ]
  },
  {
   "cell_type": "code",
   "execution_count": 52,
   "id": "715d77f4",
   "metadata": {},
   "outputs": [],
   "source": [
    " def accuracy(y_test, y_pred):\n",
    "\n",
    "        true_true = 0\n",
    "\n",
    "        for y_t, y_p in zip(y_test, y_pred):\n",
    "            if y_t == y_p:\n",
    "                true_true += 1 \n",
    "        return true_true / len(y_test)"
   ]
  },
  {
   "cell_type": "code",
   "execution_count": 53,
   "id": "2db4b0bc",
   "metadata": {},
   "outputs": [],
   "source": [
    "def train_test_split(X, Y, split):\n",
    "\n",
    "    #split=size of test dataset\n",
    "    #randomly assigning split% rows to training set and rest to test set\n",
    "    indices = np.array(range(len(X)))\n",
    "    \n",
    "    train_size = round((1-split) * len(X))\n",
    "\n",
    "    random.shuffle(indices)\n",
    "\n",
    "    train_indices = indices[0:train_size]\n",
    "    test_indices = indices[train_size:len(X)]\n",
    "\n",
    "    X_train = X.iloc[train_indices, :]\n",
    "    X_test = X.iloc[test_indices, :]\n",
    "    Y_train = Y.iloc[train_indices]\n",
    "    Y_test = Y.iloc[test_indices]\n",
    "    \n",
    "    return np.asarray(X_train),np.asarray(X_test),np.asarray(Y_train),np.asarray(Y_test)"
   ]
  },
  {
   "cell_type": "code",
   "execution_count": 54,
   "id": "38c2cf4f",
   "metadata": {},
   "outputs": [],
   "source": [
    "X_train,x_test,Y_train,y_test=train_test_split(X,Y,split=0.2)"
   ]
  },
  {
   "cell_type": "code",
   "execution_count": 55,
   "id": "44d45983",
   "metadata": {},
   "outputs": [],
   "source": [
    "class_summary=fit(X_train,Y_train) "
   ]
  },
  {
   "cell_type": "code",
   "execution_count": 56,
   "id": "2154f70a",
   "metadata": {},
   "outputs": [
    {
     "data": {
      "text/plain": [
       "{0: {'likelihood': 0.6241234221598878,\n",
       "  'summary': [{'1': 0.14606741573033707,\n",
       "    '2': 0.18202247191011237,\n",
       "    '3': 0.6719101123595506},\n",
       "   {'female': 0.12808988764044943, 'male': 0.8719101123595505},\n",
       "   {'std': 12.35848970680206, 'mean': 30.465388764044892},\n",
       "   {'std': 1.142590009719945, 'mean': 0.47415730337078654},\n",
       "   {'std': 0.7696555400285785, 'mean': 0.2898876404494382},\n",
       "   {'std': 30.10286069747703, 'mean': 21.04680494382025},\n",
       "   {'C': 0.1303370786516854,\n",
       "    'Q': 0.0898876404494382,\n",
       "    'S': 0.7797752808988764}]},\n",
       " 1: {'likelihood': 0.3758765778401122,\n",
       "  'summary': [{'1': 0.3805970149253731,\n",
       "    '2': 0.26119402985074625,\n",
       "    '3': 0.3582089552238806},\n",
       "   {'female': 0.6716417910447762, 'male': 0.3283582089552239},\n",
       "   {'std': 14.174986169728962, 'mean': 27.97534328358211},\n",
       "   {'std': 0.7352166693582278, 'mean': 0.47761194029850745},\n",
       "   {'std': 0.7745031966389302, 'mean': 0.4701492537313433},\n",
       "   {'std': 71.11748114480913, 'mean': 49.24396902985071},\n",
       "   {'C': 0.2462686567164179,\n",
       "    'Q': 0.09328358208955224,\n",
       "    'S': 0.6604477611940298}]}}"
      ]
     },
     "execution_count": 56,
     "metadata": {},
     "output_type": "execute_result"
    }
   ],
   "source": [
    "class_summary"
   ]
  },
  {
   "cell_type": "code",
   "execution_count": 58,
   "id": "f5ed15a7",
   "metadata": {},
   "outputs": [],
   "source": [
    "pred=predict(x_test)"
   ]
  },
  {
   "cell_type": "code",
   "execution_count": 227,
   "id": "d4b643de",
   "metadata": {},
   "outputs": [
    {
     "data": {
      "text/plain": [
       "array([['3', 'female', 29.666, ..., 0, 8.1375, 'Q'],\n",
       "       ['1', 'female', 24.0, ..., 0, 69.3, 'C'],\n",
       "       ['3', 'male', 28.0, ..., 0, 7.8542, 'S'],\n",
       "       ...,\n",
       "       ['2', 'male', 25.0, ..., 0, 13.0, 'S'],\n",
       "       ['1', 'female', 58.0, ..., 0, 26.55, 'S'],\n",
       "       ['2', 'female', 29.0, ..., 0, 26.0, 'S']], dtype=object)"
      ]
     },
     "execution_count": 227,
     "metadata": {},
     "output_type": "execute_result"
    }
   ],
   "source": [
    "x_test"
   ]
  },
  {
   "cell_type": "code",
   "execution_count": 59,
   "id": "e514b911",
   "metadata": {},
   "outputs": [
    {
     "data": {
      "text/plain": [
       "0.7808988764044944"
      ]
     },
     "execution_count": 59,
     "metadata": {},
     "output_type": "execute_result"
    }
   ],
   "source": [
    "accuracy(y_test,pred)"
   ]
  },
  {
   "cell_type": "code",
   "execution_count": 221,
   "id": "ea98e28d",
   "metadata": {},
   "outputs": [
    {
     "data": {
      "text/html": [
       "<div>\n",
       "<style scoped>\n",
       "    .dataframe tbody tr th:only-of-type {\n",
       "        vertical-align: middle;\n",
       "    }\n",
       "\n",
       "    .dataframe tbody tr th {\n",
       "        vertical-align: top;\n",
       "    }\n",
       "\n",
       "    .dataframe thead th {\n",
       "        text-align: right;\n",
       "    }\n",
       "</style>\n",
       "<table border=\"1\" class=\"dataframe\">\n",
       "  <thead>\n",
       "    <tr style=\"text-align: right;\">\n",
       "      <th></th>\n",
       "      <th>PassengerId</th>\n",
       "      <th>Pclass</th>\n",
       "      <th>Name</th>\n",
       "      <th>Sex</th>\n",
       "      <th>Age</th>\n",
       "      <th>SibSp</th>\n",
       "      <th>Parch</th>\n",
       "      <th>Ticket</th>\n",
       "      <th>Fare</th>\n",
       "      <th>Cabin</th>\n",
       "      <th>Embarked</th>\n",
       "    </tr>\n",
       "  </thead>\n",
       "  <tbody>\n",
       "    <tr>\n",
       "      <th>0</th>\n",
       "      <td>892</td>\n",
       "      <td>3</td>\n",
       "      <td>Kelly, Mr. James</td>\n",
       "      <td>male</td>\n",
       "      <td>34.5</td>\n",
       "      <td>0</td>\n",
       "      <td>0</td>\n",
       "      <td>330911</td>\n",
       "      <td>7.8292</td>\n",
       "      <td>NaN</td>\n",
       "      <td>Q</td>\n",
       "    </tr>\n",
       "    <tr>\n",
       "      <th>1</th>\n",
       "      <td>893</td>\n",
       "      <td>3</td>\n",
       "      <td>Wilkes, Mrs. James (Ellen Needs)</td>\n",
       "      <td>female</td>\n",
       "      <td>47.0</td>\n",
       "      <td>1</td>\n",
       "      <td>0</td>\n",
       "      <td>363272</td>\n",
       "      <td>7.0000</td>\n",
       "      <td>NaN</td>\n",
       "      <td>S</td>\n",
       "    </tr>\n",
       "    <tr>\n",
       "      <th>2</th>\n",
       "      <td>894</td>\n",
       "      <td>2</td>\n",
       "      <td>Myles, Mr. Thomas Francis</td>\n",
       "      <td>male</td>\n",
       "      <td>62.0</td>\n",
       "      <td>0</td>\n",
       "      <td>0</td>\n",
       "      <td>240276</td>\n",
       "      <td>9.6875</td>\n",
       "      <td>NaN</td>\n",
       "      <td>Q</td>\n",
       "    </tr>\n",
       "    <tr>\n",
       "      <th>3</th>\n",
       "      <td>895</td>\n",
       "      <td>3</td>\n",
       "      <td>Wirz, Mr. Albert</td>\n",
       "      <td>male</td>\n",
       "      <td>27.0</td>\n",
       "      <td>0</td>\n",
       "      <td>0</td>\n",
       "      <td>315154</td>\n",
       "      <td>8.6625</td>\n",
       "      <td>NaN</td>\n",
       "      <td>S</td>\n",
       "    </tr>\n",
       "    <tr>\n",
       "      <th>4</th>\n",
       "      <td>896</td>\n",
       "      <td>3</td>\n",
       "      <td>Hirvonen, Mrs. Alexander (Helga E Lindqvist)</td>\n",
       "      <td>female</td>\n",
       "      <td>22.0</td>\n",
       "      <td>1</td>\n",
       "      <td>1</td>\n",
       "      <td>3101298</td>\n",
       "      <td>12.2875</td>\n",
       "      <td>NaN</td>\n",
       "      <td>S</td>\n",
       "    </tr>\n",
       "  </tbody>\n",
       "</table>\n",
       "</div>"
      ],
      "text/plain": [
       "   PassengerId  Pclass                                          Name     Sex  \\\n",
       "0          892       3                              Kelly, Mr. James    male   \n",
       "1          893       3              Wilkes, Mrs. James (Ellen Needs)  female   \n",
       "2          894       2                     Myles, Mr. Thomas Francis    male   \n",
       "3          895       3                              Wirz, Mr. Albert    male   \n",
       "4          896       3  Hirvonen, Mrs. Alexander (Helga E Lindqvist)  female   \n",
       "\n",
       "    Age  SibSp  Parch   Ticket     Fare Cabin Embarked  \n",
       "0  34.5      0      0   330911   7.8292   NaN        Q  \n",
       "1  47.0      1      0   363272   7.0000   NaN        S  \n",
       "2  62.0      0      0   240276   9.6875   NaN        Q  \n",
       "3  27.0      0      0   315154   8.6625   NaN        S  \n",
       "4  22.0      1      1  3101298  12.2875   NaN        S  "
      ]
     },
     "execution_count": 221,
     "metadata": {},
     "output_type": "execute_result"
    }
   ],
   "source": [
    "df_test=pd.read_csv(\"C:\\\\Users\\\\hp\\\\Documents\\\\IAFSM_ML\\\\Naive_K-neighbours\\\\Dataset\\\\test.csv\")\n",
    "df_test.head()"
   ]
  },
  {
   "cell_type": "code",
   "execution_count": 224,
   "id": "d231a098",
   "metadata": {},
   "outputs": [],
   "source": [
    "X_test=df_test.drop([\"Name\",\"PassengerId\",\"Ticket\",\"Cabin\"],axis=1)\n",
    "X_test=impute(X_test)\n",
    "X_test[\"Pclass\"]=X_test[\"Pclass\"].astype(\"str\")"
   ]
  },
  {
   "cell_type": "code",
   "execution_count": 225,
   "id": "d7a8d276",
   "metadata": {},
   "outputs": [
    {
     "data": {
      "text/html": [
       "<div>\n",
       "<style scoped>\n",
       "    .dataframe tbody tr th:only-of-type {\n",
       "        vertical-align: middle;\n",
       "    }\n",
       "\n",
       "    .dataframe tbody tr th {\n",
       "        vertical-align: top;\n",
       "    }\n",
       "\n",
       "    .dataframe thead th {\n",
       "        text-align: right;\n",
       "    }\n",
       "</style>\n",
       "<table border=\"1\" class=\"dataframe\">\n",
       "  <thead>\n",
       "    <tr style=\"text-align: right;\">\n",
       "      <th></th>\n",
       "      <th>Pclass</th>\n",
       "      <th>Sex</th>\n",
       "      <th>Age</th>\n",
       "      <th>SibSp</th>\n",
       "      <th>Parch</th>\n",
       "      <th>Fare</th>\n",
       "      <th>Embarked</th>\n",
       "    </tr>\n",
       "  </thead>\n",
       "  <tbody>\n",
       "    <tr>\n",
       "      <th>0</th>\n",
       "      <td>3</td>\n",
       "      <td>male</td>\n",
       "      <td>34.500</td>\n",
       "      <td>0</td>\n",
       "      <td>0</td>\n",
       "      <td>7.8292</td>\n",
       "      <td>Q</td>\n",
       "    </tr>\n",
       "    <tr>\n",
       "      <th>1</th>\n",
       "      <td>3</td>\n",
       "      <td>female</td>\n",
       "      <td>47.000</td>\n",
       "      <td>1</td>\n",
       "      <td>0</td>\n",
       "      <td>7.0000</td>\n",
       "      <td>S</td>\n",
       "    </tr>\n",
       "    <tr>\n",
       "      <th>2</th>\n",
       "      <td>2</td>\n",
       "      <td>male</td>\n",
       "      <td>62.000</td>\n",
       "      <td>0</td>\n",
       "      <td>0</td>\n",
       "      <td>9.6875</td>\n",
       "      <td>Q</td>\n",
       "    </tr>\n",
       "    <tr>\n",
       "      <th>3</th>\n",
       "      <td>3</td>\n",
       "      <td>male</td>\n",
       "      <td>27.000</td>\n",
       "      <td>0</td>\n",
       "      <td>0</td>\n",
       "      <td>8.6625</td>\n",
       "      <td>S</td>\n",
       "    </tr>\n",
       "    <tr>\n",
       "      <th>4</th>\n",
       "      <td>3</td>\n",
       "      <td>female</td>\n",
       "      <td>22.000</td>\n",
       "      <td>1</td>\n",
       "      <td>1</td>\n",
       "      <td>12.2875</td>\n",
       "      <td>S</td>\n",
       "    </tr>\n",
       "    <tr>\n",
       "      <th>...</th>\n",
       "      <td>...</td>\n",
       "      <td>...</td>\n",
       "      <td>...</td>\n",
       "      <td>...</td>\n",
       "      <td>...</td>\n",
       "      <td>...</td>\n",
       "      <td>...</td>\n",
       "    </tr>\n",
       "    <tr>\n",
       "      <th>413</th>\n",
       "      <td>3</td>\n",
       "      <td>male</td>\n",
       "      <td>29.666</td>\n",
       "      <td>0</td>\n",
       "      <td>0</td>\n",
       "      <td>8.0500</td>\n",
       "      <td>S</td>\n",
       "    </tr>\n",
       "    <tr>\n",
       "      <th>414</th>\n",
       "      <td>1</td>\n",
       "      <td>female</td>\n",
       "      <td>39.000</td>\n",
       "      <td>0</td>\n",
       "      <td>0</td>\n",
       "      <td>108.9000</td>\n",
       "      <td>C</td>\n",
       "    </tr>\n",
       "    <tr>\n",
       "      <th>415</th>\n",
       "      <td>3</td>\n",
       "      <td>male</td>\n",
       "      <td>38.500</td>\n",
       "      <td>0</td>\n",
       "      <td>0</td>\n",
       "      <td>7.2500</td>\n",
       "      <td>S</td>\n",
       "    </tr>\n",
       "    <tr>\n",
       "      <th>416</th>\n",
       "      <td>3</td>\n",
       "      <td>male</td>\n",
       "      <td>29.666</td>\n",
       "      <td>0</td>\n",
       "      <td>0</td>\n",
       "      <td>8.0500</td>\n",
       "      <td>S</td>\n",
       "    </tr>\n",
       "    <tr>\n",
       "      <th>417</th>\n",
       "      <td>3</td>\n",
       "      <td>male</td>\n",
       "      <td>29.666</td>\n",
       "      <td>1</td>\n",
       "      <td>1</td>\n",
       "      <td>22.3583</td>\n",
       "      <td>C</td>\n",
       "    </tr>\n",
       "  </tbody>\n",
       "</table>\n",
       "<p>418 rows × 7 columns</p>\n",
       "</div>"
      ],
      "text/plain": [
       "    Pclass     Sex     Age  SibSp  Parch      Fare Embarked\n",
       "0        3    male  34.500      0      0    7.8292        Q\n",
       "1        3  female  47.000      1      0    7.0000        S\n",
       "2        2    male  62.000      0      0    9.6875        Q\n",
       "3        3    male  27.000      0      0    8.6625        S\n",
       "4        3  female  22.000      1      1   12.2875        S\n",
       "..     ...     ...     ...    ...    ...       ...      ...\n",
       "413      3    male  29.666      0      0    8.0500        S\n",
       "414      1  female  39.000      0      0  108.9000        C\n",
       "415      3    male  38.500      0      0    7.2500        S\n",
       "416      3    male  29.666      0      0    8.0500        S\n",
       "417      3    male  29.666      1      1   22.3583        C\n",
       "\n",
       "[418 rows x 7 columns]"
      ]
     },
     "execution_count": 225,
     "metadata": {},
     "output_type": "execute_result"
    }
   ],
   "source": [
    "X_test"
   ]
  },
  {
   "cell_type": "code",
   "execution_count": 228,
   "id": "6249a379",
   "metadata": {},
   "outputs": [],
   "source": [
    "pred_test=predict(np.asarray(X_test))"
   ]
  },
  {
   "cell_type": "code",
   "execution_count": 229,
   "id": "675ee263",
   "metadata": {},
   "outputs": [
    {
     "data": {
      "text/html": [
       "<div>\n",
       "<style scoped>\n",
       "    .dataframe tbody tr th:only-of-type {\n",
       "        vertical-align: middle;\n",
       "    }\n",
       "\n",
       "    .dataframe tbody tr th {\n",
       "        vertical-align: top;\n",
       "    }\n",
       "\n",
       "    .dataframe thead th {\n",
       "        text-align: right;\n",
       "    }\n",
       "</style>\n",
       "<table border=\"1\" class=\"dataframe\">\n",
       "  <thead>\n",
       "    <tr style=\"text-align: right;\">\n",
       "      <th></th>\n",
       "      <th>PassengerId</th>\n",
       "      <th>Survived</th>\n",
       "    </tr>\n",
       "  </thead>\n",
       "  <tbody>\n",
       "    <tr>\n",
       "      <th>0</th>\n",
       "      <td>892</td>\n",
       "      <td>0</td>\n",
       "    </tr>\n",
       "    <tr>\n",
       "      <th>1</th>\n",
       "      <td>893</td>\n",
       "      <td>1</td>\n",
       "    </tr>\n",
       "    <tr>\n",
       "      <th>2</th>\n",
       "      <td>894</td>\n",
       "      <td>0</td>\n",
       "    </tr>\n",
       "    <tr>\n",
       "      <th>3</th>\n",
       "      <td>895</td>\n",
       "      <td>0</td>\n",
       "    </tr>\n",
       "    <tr>\n",
       "      <th>4</th>\n",
       "      <td>896</td>\n",
       "      <td>1</td>\n",
       "    </tr>\n",
       "    <tr>\n",
       "      <th>...</th>\n",
       "      <td>...</td>\n",
       "      <td>...</td>\n",
       "    </tr>\n",
       "    <tr>\n",
       "      <th>413</th>\n",
       "      <td>1305</td>\n",
       "      <td>0</td>\n",
       "    </tr>\n",
       "    <tr>\n",
       "      <th>414</th>\n",
       "      <td>1306</td>\n",
       "      <td>1</td>\n",
       "    </tr>\n",
       "    <tr>\n",
       "      <th>415</th>\n",
       "      <td>1307</td>\n",
       "      <td>0</td>\n",
       "    </tr>\n",
       "    <tr>\n",
       "      <th>416</th>\n",
       "      <td>1308</td>\n",
       "      <td>0</td>\n",
       "    </tr>\n",
       "    <tr>\n",
       "      <th>417</th>\n",
       "      <td>1309</td>\n",
       "      <td>0</td>\n",
       "    </tr>\n",
       "  </tbody>\n",
       "</table>\n",
       "<p>418 rows × 2 columns</p>\n",
       "</div>"
      ],
      "text/plain": [
       "     PassengerId  Survived\n",
       "0            892         0\n",
       "1            893         1\n",
       "2            894         0\n",
       "3            895         0\n",
       "4            896         1\n",
       "..           ...       ...\n",
       "413         1305         0\n",
       "414         1306         1\n",
       "415         1307         0\n",
       "416         1308         0\n",
       "417         1309         0\n",
       "\n",
       "[418 rows x 2 columns]"
      ]
     },
     "execution_count": 229,
     "metadata": {},
     "output_type": "execute_result"
    }
   ],
   "source": [
    "Y_test=pd.read_csv(\"C:\\\\Users\\\\hp\\\\Documents\\\\IAFSM_ML\\\\Naive_K-neighbours\\\\Dataset\\\\gender_submission.csv\")\n",
    "Y_test"
   ]
  },
  {
   "cell_type": "code",
   "execution_count": 230,
   "id": "09803f8d",
   "metadata": {},
   "outputs": [
    {
     "data": {
      "text/plain": [
       "0.8110047846889952"
      ]
     },
     "execution_count": 230,
     "metadata": {},
     "output_type": "execute_result"
    }
   ],
   "source": [
    "accuracy(Y_test[\"Survived\"],pred_test)"
   ]
  },
  {
   "cell_type": "markdown",
   "id": "2e63f190",
   "metadata": {},
   "source": [
    "## K-Nearest Neighbours implementation"
   ]
  },
  {
   "cell_type": "code",
   "execution_count": 194,
   "id": "c9da541e",
   "metadata": {},
   "outputs": [
    {
     "name": "stderr",
     "output_type": "stream",
     "text": [
      "<ipython-input-193-c22e670f040e>:9: SettingWithCopyWarning: \n",
      "A value is trying to be set on a copy of a slice from a DataFrame\n",
      "\n",
      "See the caveats in the documentation: https://pandas.pydata.org/pandas-docs/stable/user_guide/indexing.html#returning-a-view-versus-a-copy\n",
      "  X[\"Sex\"][i]=1\n",
      "<ipython-input-193-c22e670f040e>:13: SettingWithCopyWarning: \n",
      "A value is trying to be set on a copy of a slice from a DataFrame\n",
      "\n",
      "See the caveats in the documentation: https://pandas.pydata.org/pandas-docs/stable/user_guide/indexing.html#returning-a-view-versus-a-copy\n",
      "  X[\"Embarked\"][i]=0\n",
      "<ipython-input-193-c22e670f040e>:11: SettingWithCopyWarning: \n",
      "A value is trying to be set on a copy of a slice from a DataFrame\n",
      "\n",
      "See the caveats in the documentation: https://pandas.pydata.org/pandas-docs/stable/user_guide/indexing.html#returning-a-view-versus-a-copy\n",
      "  X[\"Sex\"][i]=0\n",
      "<ipython-input-193-c22e670f040e>:17: SettingWithCopyWarning: \n",
      "A value is trying to be set on a copy of a slice from a DataFrame\n",
      "\n",
      "See the caveats in the documentation: https://pandas.pydata.org/pandas-docs/stable/user_guide/indexing.html#returning-a-view-versus-a-copy\n",
      "  X[\"Embarked\"][i]=2\n",
      "<ipython-input-193-c22e670f040e>:15: SettingWithCopyWarning: \n",
      "A value is trying to be set on a copy of a slice from a DataFrame\n",
      "\n",
      "See the caveats in the documentation: https://pandas.pydata.org/pandas-docs/stable/user_guide/indexing.html#returning-a-view-versus-a-copy\n",
      "  X[\"Embarked\"][i]=1\n"
     ]
    }
   ],
   "source": [
    "X_kn=encoding(X.copy())"
   ]
  },
  {
   "cell_type": "code",
   "execution_count": 195,
   "id": "3c8395fe",
   "metadata": {},
   "outputs": [
    {
     "data": {
      "text/html": [
       "<div>\n",
       "<style scoped>\n",
       "    .dataframe tbody tr th:only-of-type {\n",
       "        vertical-align: middle;\n",
       "    }\n",
       "\n",
       "    .dataframe tbody tr th {\n",
       "        vertical-align: top;\n",
       "    }\n",
       "\n",
       "    .dataframe thead th {\n",
       "        text-align: right;\n",
       "    }\n",
       "</style>\n",
       "<table border=\"1\" class=\"dataframe\">\n",
       "  <thead>\n",
       "    <tr style=\"text-align: right;\">\n",
       "      <th></th>\n",
       "      <th>Pclass</th>\n",
       "      <th>Sex</th>\n",
       "      <th>Age</th>\n",
       "      <th>SibSp</th>\n",
       "      <th>Parch</th>\n",
       "      <th>Fare</th>\n",
       "      <th>Embarked</th>\n",
       "    </tr>\n",
       "  </thead>\n",
       "  <tbody>\n",
       "    <tr>\n",
       "      <th>0</th>\n",
       "      <td>3</td>\n",
       "      <td>1</td>\n",
       "      <td>22.000</td>\n",
       "      <td>1</td>\n",
       "      <td>0</td>\n",
       "      <td>7.2500</td>\n",
       "      <td>0</td>\n",
       "    </tr>\n",
       "    <tr>\n",
       "      <th>1</th>\n",
       "      <td>1</td>\n",
       "      <td>0</td>\n",
       "      <td>38.000</td>\n",
       "      <td>1</td>\n",
       "      <td>0</td>\n",
       "      <td>71.2833</td>\n",
       "      <td>2</td>\n",
       "    </tr>\n",
       "    <tr>\n",
       "      <th>2</th>\n",
       "      <td>3</td>\n",
       "      <td>0</td>\n",
       "      <td>26.000</td>\n",
       "      <td>0</td>\n",
       "      <td>0</td>\n",
       "      <td>7.9250</td>\n",
       "      <td>0</td>\n",
       "    </tr>\n",
       "    <tr>\n",
       "      <th>3</th>\n",
       "      <td>1</td>\n",
       "      <td>0</td>\n",
       "      <td>35.000</td>\n",
       "      <td>1</td>\n",
       "      <td>0</td>\n",
       "      <td>53.1000</td>\n",
       "      <td>0</td>\n",
       "    </tr>\n",
       "    <tr>\n",
       "      <th>4</th>\n",
       "      <td>3</td>\n",
       "      <td>1</td>\n",
       "      <td>35.000</td>\n",
       "      <td>0</td>\n",
       "      <td>0</td>\n",
       "      <td>8.0500</td>\n",
       "      <td>0</td>\n",
       "    </tr>\n",
       "    <tr>\n",
       "      <th>...</th>\n",
       "      <td>...</td>\n",
       "      <td>...</td>\n",
       "      <td>...</td>\n",
       "      <td>...</td>\n",
       "      <td>...</td>\n",
       "      <td>...</td>\n",
       "      <td>...</td>\n",
       "    </tr>\n",
       "    <tr>\n",
       "      <th>886</th>\n",
       "      <td>2</td>\n",
       "      <td>1</td>\n",
       "      <td>27.000</td>\n",
       "      <td>0</td>\n",
       "      <td>0</td>\n",
       "      <td>13.0000</td>\n",
       "      <td>0</td>\n",
       "    </tr>\n",
       "    <tr>\n",
       "      <th>887</th>\n",
       "      <td>1</td>\n",
       "      <td>0</td>\n",
       "      <td>19.000</td>\n",
       "      <td>0</td>\n",
       "      <td>0</td>\n",
       "      <td>30.0000</td>\n",
       "      <td>0</td>\n",
       "    </tr>\n",
       "    <tr>\n",
       "      <th>888</th>\n",
       "      <td>3</td>\n",
       "      <td>0</td>\n",
       "      <td>29.666</td>\n",
       "      <td>1</td>\n",
       "      <td>2</td>\n",
       "      <td>23.4500</td>\n",
       "      <td>0</td>\n",
       "    </tr>\n",
       "    <tr>\n",
       "      <th>889</th>\n",
       "      <td>1</td>\n",
       "      <td>1</td>\n",
       "      <td>26.000</td>\n",
       "      <td>0</td>\n",
       "      <td>0</td>\n",
       "      <td>30.0000</td>\n",
       "      <td>2</td>\n",
       "    </tr>\n",
       "    <tr>\n",
       "      <th>890</th>\n",
       "      <td>3</td>\n",
       "      <td>1</td>\n",
       "      <td>32.000</td>\n",
       "      <td>0</td>\n",
       "      <td>0</td>\n",
       "      <td>7.7500</td>\n",
       "      <td>1</td>\n",
       "    </tr>\n",
       "  </tbody>\n",
       "</table>\n",
       "<p>891 rows × 7 columns</p>\n",
       "</div>"
      ],
      "text/plain": [
       "     Pclass Sex     Age  SibSp  Parch     Fare Embarked\n",
       "0         3   1  22.000      1      0   7.2500        0\n",
       "1         1   0  38.000      1      0  71.2833        2\n",
       "2         3   0  26.000      0      0   7.9250        0\n",
       "3         1   0  35.000      1      0  53.1000        0\n",
       "4         3   1  35.000      0      0   8.0500        0\n",
       "..      ...  ..     ...    ...    ...      ...      ...\n",
       "886       2   1  27.000      0      0  13.0000        0\n",
       "887       1   0  19.000      0      0  30.0000        0\n",
       "888       3   0  29.666      1      2  23.4500        0\n",
       "889       1   1  26.000      0      0  30.0000        2\n",
       "890       3   1  32.000      0      0   7.7500        1\n",
       "\n",
       "[891 rows x 7 columns]"
      ]
     },
     "execution_count": 195,
     "metadata": {},
     "output_type": "execute_result"
    }
   ],
   "source": [
    "X_kn"
   ]
  },
  {
   "cell_type": "code",
   "execution_count": 196,
   "id": "834d95ac",
   "metadata": {},
   "outputs": [],
   "source": [
    "X_train_kn,x_test_kn,Y_train_kn,y_test_kn=train_test_split(X_kn,Y,split=0.2)"
   ]
  },
  {
   "cell_type": "code",
   "execution_count": 171,
   "id": "13e62682",
   "metadata": {},
   "outputs": [],
   "source": [
    "def euclidian_distance(a, b):\n",
    "    a=a.astype(\"float32\")\n",
    "    b=b.astype(\"float32\")\n",
    "    return np.sqrt(np.sum((a-b)**2, axis=1))## Calculates the euclidian distance"
   ]
  },
  {
   "cell_type": "markdown",
   "id": "dfdb51bf",
   "metadata": {},
   "source": [
    "### return top k closest neigbours distance and their index"
   ]
  },
  {
   "cell_type": "code",
   "execution_count": 147,
   "id": "14bc76f4",
   "metadata": {},
   "outputs": [],
   "source": [
    "def K_neigbours(X_inp,K=3):\n",
    "    dist=[]\n",
    "    neigh_ind=[]\n",
    "    distances=[euclidian_distance(x, X_train_kn) for x in X_inp]\n",
    "    #return distances\n",
    "    for d in distances:\n",
    "        enum_neigh = enumerate(d)\n",
    "        sorted_neigh = sorted(enum_neigh, key=lambda x: x[1])[:K]\n",
    "        ind_list = [x[0] for x in sorted_neigh]\n",
    "        dist_list = [x[1] for x in sorted_neigh]\n",
    "    \n",
    "        dist.append(dist_list)\n",
    "        neigh_ind.append(ind_list)\n",
    "    return dist,neigh_ind\n",
    "              "
   ]
  },
  {
   "cell_type": "markdown",
   "id": "ebfdbd56",
   "metadata": {},
   "source": [
    "### return the most frequent number in the list"
   ]
  },
  {
   "cell_type": "code",
   "execution_count": 122,
   "id": "09f8779f",
   "metadata": {},
   "outputs": [],
   "source": [
    "def most_frequent(List):\n",
    "    unique, counts = np.unique(List, return_counts=True)\n",
    "    index = np.argmax(counts)\n",
    "    return unique[index]"
   ]
  },
  {
   "cell_type": "markdown",
   "id": "df30d896",
   "metadata": {},
   "source": [
    "### Predict the labels"
   ]
  },
  {
   "cell_type": "code",
   "execution_count": 197,
   "id": "cb2a1d16",
   "metadata": {},
   "outputs": [],
   "source": [
    "def predict_neighbours(x,y_train_kn):\n",
    "    dist,neigh=K_neigbours(x,K=5)\n",
    "    pred=[]\n",
    "    for row in neigh:\n",
    "        labels=y_train_kn[row]\n",
    "        pred.append(most_frequent(labels))\n",
    "    return pred\n",
    "        \n",
    "        "
   ]
  },
  {
   "cell_type": "code",
   "execution_count": 198,
   "id": "59a1671e",
   "metadata": {},
   "outputs": [],
   "source": [
    "pred_neighbours=predict_neighbours(x_test_kn,Y_train_kn)"
   ]
  },
  {
   "cell_type": "code",
   "execution_count": 199,
   "id": "9feda012",
   "metadata": {},
   "outputs": [
    {
     "data": {
      "text/plain": [
       "[1,\n",
       " 0,\n",
       " 0,\n",
       " 0,\n",
       " 1,\n",
       " 1,\n",
       " 0,\n",
       " 0,\n",
       " 1,\n",
       " 0,\n",
       " 0,\n",
       " 1,\n",
       " 0,\n",
       " 0,\n",
       " 0,\n",
       " 1,\n",
       " 0,\n",
       " 0,\n",
       " 0,\n",
       " 0,\n",
       " 0,\n",
       " 1,\n",
       " 1,\n",
       " 0,\n",
       " 0,\n",
       " 1,\n",
       " 0,\n",
       " 1,\n",
       " 1,\n",
       " 0,\n",
       " 0,\n",
       " 1,\n",
       " 0,\n",
       " 0,\n",
       " 0,\n",
       " 0,\n",
       " 0,\n",
       " 0,\n",
       " 0,\n",
       " 0,\n",
       " 1,\n",
       " 0,\n",
       " 0,\n",
       " 0,\n",
       " 1,\n",
       " 0,\n",
       " 0,\n",
       " 0,\n",
       " 0,\n",
       " 0,\n",
       " 1,\n",
       " 0,\n",
       " 1,\n",
       " 1,\n",
       " 0,\n",
       " 0,\n",
       " 1,\n",
       " 0,\n",
       " 0,\n",
       " 0,\n",
       " 0,\n",
       " 0,\n",
       " 0,\n",
       " 1,\n",
       " 0,\n",
       " 0,\n",
       " 1,\n",
       " 1,\n",
       " 0,\n",
       " 0,\n",
       " 1,\n",
       " 1,\n",
       " 0,\n",
       " 0,\n",
       " 0,\n",
       " 0,\n",
       " 0,\n",
       " 0,\n",
       " 0,\n",
       " 1,\n",
       " 1,\n",
       " 0,\n",
       " 0,\n",
       " 0,\n",
       " 0,\n",
       " 0,\n",
       " 0,\n",
       " 0,\n",
       " 1,\n",
       " 0,\n",
       " 0,\n",
       " 0,\n",
       " 0,\n",
       " 0,\n",
       " 0,\n",
       " 0,\n",
       " 0,\n",
       " 0,\n",
       " 1,\n",
       " 0,\n",
       " 1,\n",
       " 0,\n",
       " 0,\n",
       " 0,\n",
       " 0,\n",
       " 1,\n",
       " 0,\n",
       " 1,\n",
       " 0,\n",
       " 1,\n",
       " 1,\n",
       " 0,\n",
       " 1,\n",
       " 0,\n",
       " 0,\n",
       " 0,\n",
       " 0,\n",
       " 0,\n",
       " 0,\n",
       " 0,\n",
       " 0,\n",
       " 0,\n",
       " 1,\n",
       " 1,\n",
       " 0,\n",
       " 1,\n",
       " 0,\n",
       " 0,\n",
       " 0,\n",
       " 0,\n",
       " 1,\n",
       " 0,\n",
       " 0,\n",
       " 0,\n",
       " 0,\n",
       " 1,\n",
       " 0,\n",
       " 0,\n",
       " 1,\n",
       " 1,\n",
       " 0,\n",
       " 1,\n",
       " 1,\n",
       " 0,\n",
       " 0,\n",
       " 0,\n",
       " 0,\n",
       " 1,\n",
       " 1,\n",
       " 0,\n",
       " 0,\n",
       " 1,\n",
       " 1,\n",
       " 1,\n",
       " 0,\n",
       " 1,\n",
       " 1,\n",
       " 0,\n",
       " 1,\n",
       " 0,\n",
       " 1,\n",
       " 0,\n",
       " 0,\n",
       " 0,\n",
       " 1,\n",
       " 0,\n",
       " 0,\n",
       " 0,\n",
       " 0,\n",
       " 1,\n",
       " 1,\n",
       " 0,\n",
       " 0,\n",
       " 0,\n",
       " 0,\n",
       " 0,\n",
       " 0,\n",
       " 0]"
      ]
     },
     "execution_count": 199,
     "metadata": {},
     "output_type": "execute_result"
    }
   ],
   "source": [
    "pred_neighbours"
   ]
  },
  {
   "cell_type": "code",
   "execution_count": 200,
   "id": "469d3ad0",
   "metadata": {},
   "outputs": [
    {
     "data": {
      "text/plain": [
       "0.702247191011236"
      ]
     },
     "execution_count": 200,
     "metadata": {},
     "output_type": "execute_result"
    }
   ],
   "source": [
    "accuracy(y_test_kn,pred_neighbours)"
   ]
  },
  {
   "cell_type": "code",
   "execution_count": null,
   "id": "4f75ae1d",
   "metadata": {},
   "outputs": [],
   "source": []
  }
 ],
 "metadata": {
  "kernelspec": {
   "display_name": "Python 3",
   "language": "python",
   "name": "python3"
  },
  "language_info": {
   "codemirror_mode": {
    "name": "ipython",
    "version": 3
   },
   "file_extension": ".py",
   "mimetype": "text/x-python",
   "name": "python",
   "nbconvert_exporter": "python",
   "pygments_lexer": "ipython3",
   "version": "3.8.8"
  }
 },
 "nbformat": 4,
 "nbformat_minor": 5
}
