{
 "cells": [
  {
   "cell_type": "code",
   "execution_count": 43,
   "id": "446646af",
   "metadata": {},
   "outputs": [],
   "source": [
    "import numpy as np\n",
    "import pandas as pd\n",
    "import math\n",
    "import matplotlib.pyplot as plt\n",
    "import random"
   ]
  },
  {
   "cell_type": "code",
   "execution_count": 3,
   "id": "a94e2fbf",
   "metadata": {},
   "outputs": [
    {
     "data": {
      "text/html": [
       "<div>\n",
       "<style scoped>\n",
       "    .dataframe tbody tr th:only-of-type {\n",
       "        vertical-align: middle;\n",
       "    }\n",
       "\n",
       "    .dataframe tbody tr th {\n",
       "        vertical-align: top;\n",
       "    }\n",
       "\n",
       "    .dataframe thead th {\n",
       "        text-align: right;\n",
       "    }\n",
       "</style>\n",
       "<table border=\"1\" class=\"dataframe\">\n",
       "  <thead>\n",
       "    <tr style=\"text-align: right;\">\n",
       "      <th></th>\n",
       "      <th>PassengerId</th>\n",
       "      <th>Survived</th>\n",
       "      <th>Pclass</th>\n",
       "      <th>Name</th>\n",
       "      <th>Sex</th>\n",
       "      <th>Age</th>\n",
       "      <th>SibSp</th>\n",
       "      <th>Parch</th>\n",
       "      <th>Ticket</th>\n",
       "      <th>Fare</th>\n",
       "      <th>Cabin</th>\n",
       "      <th>Embarked</th>\n",
       "    </tr>\n",
       "  </thead>\n",
       "  <tbody>\n",
       "    <tr>\n",
       "      <th>0</th>\n",
       "      <td>1</td>\n",
       "      <td>0</td>\n",
       "      <td>3</td>\n",
       "      <td>Braund, Mr. Owen Harris</td>\n",
       "      <td>male</td>\n",
       "      <td>22.0</td>\n",
       "      <td>1</td>\n",
       "      <td>0</td>\n",
       "      <td>A/5 21171</td>\n",
       "      <td>7.2500</td>\n",
       "      <td>NaN</td>\n",
       "      <td>S</td>\n",
       "    </tr>\n",
       "    <tr>\n",
       "      <th>1</th>\n",
       "      <td>2</td>\n",
       "      <td>1</td>\n",
       "      <td>1</td>\n",
       "      <td>Cumings, Mrs. John Bradley (Florence Briggs Th...</td>\n",
       "      <td>female</td>\n",
       "      <td>38.0</td>\n",
       "      <td>1</td>\n",
       "      <td>0</td>\n",
       "      <td>PC 17599</td>\n",
       "      <td>71.2833</td>\n",
       "      <td>C85</td>\n",
       "      <td>C</td>\n",
       "    </tr>\n",
       "    <tr>\n",
       "      <th>2</th>\n",
       "      <td>3</td>\n",
       "      <td>1</td>\n",
       "      <td>3</td>\n",
       "      <td>Heikkinen, Miss. Laina</td>\n",
       "      <td>female</td>\n",
       "      <td>26.0</td>\n",
       "      <td>0</td>\n",
       "      <td>0</td>\n",
       "      <td>STON/O2. 3101282</td>\n",
       "      <td>7.9250</td>\n",
       "      <td>NaN</td>\n",
       "      <td>S</td>\n",
       "    </tr>\n",
       "    <tr>\n",
       "      <th>3</th>\n",
       "      <td>4</td>\n",
       "      <td>1</td>\n",
       "      <td>1</td>\n",
       "      <td>Futrelle, Mrs. Jacques Heath (Lily May Peel)</td>\n",
       "      <td>female</td>\n",
       "      <td>35.0</td>\n",
       "      <td>1</td>\n",
       "      <td>0</td>\n",
       "      <td>113803</td>\n",
       "      <td>53.1000</td>\n",
       "      <td>C123</td>\n",
       "      <td>S</td>\n",
       "    </tr>\n",
       "    <tr>\n",
       "      <th>4</th>\n",
       "      <td>5</td>\n",
       "      <td>0</td>\n",
       "      <td>3</td>\n",
       "      <td>Allen, Mr. William Henry</td>\n",
       "      <td>male</td>\n",
       "      <td>35.0</td>\n",
       "      <td>0</td>\n",
       "      <td>0</td>\n",
       "      <td>373450</td>\n",
       "      <td>8.0500</td>\n",
       "      <td>NaN</td>\n",
       "      <td>S</td>\n",
       "    </tr>\n",
       "  </tbody>\n",
       "</table>\n",
       "</div>"
      ],
      "text/plain": [
       "   PassengerId  Survived  Pclass  \\\n",
       "0            1         0       3   \n",
       "1            2         1       1   \n",
       "2            3         1       3   \n",
       "3            4         1       1   \n",
       "4            5         0       3   \n",
       "\n",
       "                                                Name     Sex   Age  SibSp  \\\n",
       "0                            Braund, Mr. Owen Harris    male  22.0      1   \n",
       "1  Cumings, Mrs. John Bradley (Florence Briggs Th...  female  38.0      1   \n",
       "2                             Heikkinen, Miss. Laina  female  26.0      0   \n",
       "3       Futrelle, Mrs. Jacques Heath (Lily May Peel)  female  35.0      1   \n",
       "4                           Allen, Mr. William Henry    male  35.0      0   \n",
       "\n",
       "   Parch            Ticket     Fare Cabin Embarked  \n",
       "0      0         A/5 21171   7.2500   NaN        S  \n",
       "1      0          PC 17599  71.2833   C85        C  \n",
       "2      0  STON/O2. 3101282   7.9250   NaN        S  \n",
       "3      0            113803  53.1000  C123        S  \n",
       "4      0            373450   8.0500   NaN        S  "
      ]
     },
     "execution_count": 3,
     "metadata": {},
     "output_type": "execute_result"
    }
   ],
   "source": [
    "df=pd.read_csv(\"C:\\\\Users\\\\hp\\\\Documents\\\\IAFSM_ML\\\\Naive_K-neighbours\\\\Dataset\\\\train.csv\")\n",
    "df.head()"
   ]
  },
  {
   "cell_type": "code",
   "execution_count": 4,
   "id": "7445ccf6",
   "metadata": {},
   "outputs": [],
   "source": [
    "X=df.drop([\"Survived\",\"Name\",\"PassengerId\",\"Ticket\",\"Cabin\"],axis=1)\n",
    "Y=df[\"Survived\"]"
   ]
  },
  {
   "cell_type": "code",
   "execution_count": 5,
   "id": "8e7f4727",
   "metadata": {},
   "outputs": [
    {
     "data": {
      "text/html": [
       "<div>\n",
       "<style scoped>\n",
       "    .dataframe tbody tr th:only-of-type {\n",
       "        vertical-align: middle;\n",
       "    }\n",
       "\n",
       "    .dataframe tbody tr th {\n",
       "        vertical-align: top;\n",
       "    }\n",
       "\n",
       "    .dataframe thead th {\n",
       "        text-align: right;\n",
       "    }\n",
       "</style>\n",
       "<table border=\"1\" class=\"dataframe\">\n",
       "  <thead>\n",
       "    <tr style=\"text-align: right;\">\n",
       "      <th></th>\n",
       "      <th>Pclass</th>\n",
       "      <th>Age</th>\n",
       "      <th>SibSp</th>\n",
       "      <th>Parch</th>\n",
       "      <th>Fare</th>\n",
       "    </tr>\n",
       "  </thead>\n",
       "  <tbody>\n",
       "    <tr>\n",
       "      <th>count</th>\n",
       "      <td>891.000000</td>\n",
       "      <td>714.000000</td>\n",
       "      <td>891.000000</td>\n",
       "      <td>891.000000</td>\n",
       "      <td>891.000000</td>\n",
       "    </tr>\n",
       "    <tr>\n",
       "      <th>mean</th>\n",
       "      <td>2.308642</td>\n",
       "      <td>29.699118</td>\n",
       "      <td>0.523008</td>\n",
       "      <td>0.381594</td>\n",
       "      <td>32.204208</td>\n",
       "    </tr>\n",
       "    <tr>\n",
       "      <th>std</th>\n",
       "      <td>0.836071</td>\n",
       "      <td>14.526497</td>\n",
       "      <td>1.102743</td>\n",
       "      <td>0.806057</td>\n",
       "      <td>49.693429</td>\n",
       "    </tr>\n",
       "    <tr>\n",
       "      <th>min</th>\n",
       "      <td>1.000000</td>\n",
       "      <td>0.420000</td>\n",
       "      <td>0.000000</td>\n",
       "      <td>0.000000</td>\n",
       "      <td>0.000000</td>\n",
       "    </tr>\n",
       "    <tr>\n",
       "      <th>25%</th>\n",
       "      <td>2.000000</td>\n",
       "      <td>20.125000</td>\n",
       "      <td>0.000000</td>\n",
       "      <td>0.000000</td>\n",
       "      <td>7.910400</td>\n",
       "    </tr>\n",
       "    <tr>\n",
       "      <th>50%</th>\n",
       "      <td>3.000000</td>\n",
       "      <td>28.000000</td>\n",
       "      <td>0.000000</td>\n",
       "      <td>0.000000</td>\n",
       "      <td>14.454200</td>\n",
       "    </tr>\n",
       "    <tr>\n",
       "      <th>75%</th>\n",
       "      <td>3.000000</td>\n",
       "      <td>38.000000</td>\n",
       "      <td>1.000000</td>\n",
       "      <td>0.000000</td>\n",
       "      <td>31.000000</td>\n",
       "    </tr>\n",
       "    <tr>\n",
       "      <th>max</th>\n",
       "      <td>3.000000</td>\n",
       "      <td>80.000000</td>\n",
       "      <td>8.000000</td>\n",
       "      <td>6.000000</td>\n",
       "      <td>512.329200</td>\n",
       "    </tr>\n",
       "  </tbody>\n",
       "</table>\n",
       "</div>"
      ],
      "text/plain": [
       "           Pclass         Age       SibSp       Parch        Fare\n",
       "count  891.000000  714.000000  891.000000  891.000000  891.000000\n",
       "mean     2.308642   29.699118    0.523008    0.381594   32.204208\n",
       "std      0.836071   14.526497    1.102743    0.806057   49.693429\n",
       "min      1.000000    0.420000    0.000000    0.000000    0.000000\n",
       "25%      2.000000   20.125000    0.000000    0.000000    7.910400\n",
       "50%      3.000000   28.000000    0.000000    0.000000   14.454200\n",
       "75%      3.000000   38.000000    1.000000    0.000000   31.000000\n",
       "max      3.000000   80.000000    8.000000    6.000000  512.329200"
      ]
     },
     "execution_count": 5,
     "metadata": {},
     "output_type": "execute_result"
    }
   ],
   "source": [
    "X.describe()"
   ]
  },
  {
   "cell_type": "code",
   "execution_count": 6,
   "id": "e76c1d11",
   "metadata": {},
   "outputs": [
    {
     "name": "stdout",
     "output_type": "stream",
     "text": [
      "0\n",
      "0\n",
      "177\n",
      "0\n",
      "0\n",
      "0\n",
      "2\n"
     ]
    }
   ],
   "source": [
    "for col in X.columns: ## Checking for columns with null values\n",
    "    print(X[col].isna().sum())"
   ]
  },
  {
   "cell_type": "markdown",
   "id": "235df7db",
   "metadata": {},
   "source": [
    "### Impute  null values with mean value of age"
   ]
  },
  {
   "cell_type": "code",
   "execution_count": 8,
   "id": "67229dc4",
   "metadata": {},
   "outputs": [],
   "source": [
    "X[\"Age\"]=X[\"Age\"].fillna(29.666)\n"
   ]
  },
  {
   "cell_type": "markdown",
   "id": "3cee6f4c",
   "metadata": {},
   "source": [
    "### Convert categorical value into integer values"
   ]
  },
  {
   "cell_type": "code",
   "execution_count": 11,
   "id": "33beb2b8",
   "metadata": {},
   "outputs": [
    {
     "name": "stderr",
     "output_type": "stream",
     "text": [
      "<ipython-input-11-87d7c8e317c5>:5: SettingWithCopyWarning: \n",
      "A value is trying to be set on a copy of a slice from a DataFrame\n",
      "\n",
      "See the caveats in the documentation: https://pandas.pydata.org/pandas-docs/stable/user_guide/indexing.html#returning-a-view-versus-a-copy\n",
      "  X[\"Sex\"][i]=0\n",
      "<ipython-input-11-87d7c8e317c5>:11: SettingWithCopyWarning: \n",
      "A value is trying to be set on a copy of a slice from a DataFrame\n",
      "\n",
      "See the caveats in the documentation: https://pandas.pydata.org/pandas-docs/stable/user_guide/indexing.html#returning-a-view-versus-a-copy\n",
      "  X[\"Embarked\"][i]=2\n"
     ]
    }
   ],
   "source": [
    "for i in range(0,len(X)):\n",
    "    if(X[\"Sex\"][i]==\"male\"):\n",
    "        X[\"Sex\"][i]=1\n",
    "    else:\n",
    "        X[\"Sex\"][i]=0\n",
    "    if(X[\"Embarked\"][i]==\"S\"):\n",
    "        X[\"Embarked\"][i]=0\n",
    "    elif(X[\"Embarked\"][i]==\"Q\"):\n",
    "        X[\"Embarked\"][i]=1\n",
    "    else:\n",
    "        X[\"Embarked\"][i]=2"
   ]
  },
  {
   "cell_type": "markdown",
   "id": "e2105435",
   "metadata": {},
   "source": [
    "#### Separates the dataset in to a subset of data for each class."
   ]
  },
  {
   "cell_type": "code",
   "execution_count": 50,
   "id": "84a03fbc",
   "metadata": {},
   "outputs": [],
   "source": [
    "def separate_classes( X, y):\n",
    "        separated_classes = {}\n",
    "        for i in range(len(X)):\n",
    "            feature_values = X[i]\n",
    "            class_name = y[i]\n",
    "            if class_name not in separated_classes:\n",
    "                separated_classes[class_name] = []\n",
    "            separated_classes[class_name].append(feature_values)\n",
    "        return separated_classes\n"
   ]
  },
  {
   "cell_type": "markdown",
   "id": "5d59487d",
   "metadata": {},
   "source": [
    "###  Calculates standard deviation and mean of features and returns a dictionary with STD and Mean as keys and assigned features STD and Mean as values."
   ]
  },
  {
   "cell_type": "code",
   "execution_count": 32,
   "id": "6c8c8228",
   "metadata": {},
   "outputs": [],
   "source": [
    "def stat_info(X):\n",
    "        \n",
    "        list=[]\n",
    "        for feature in zip(*X):\n",
    "            yield{\n",
    "                'std' : np.std(feature),\n",
    "                'mean' : np.mean(feature)\n",
    "            }\n",
    "            "
   ]
  },
  {
   "cell_type": "markdown",
   "id": "52750771",
   "metadata": {},
   "source": [
    "### Trains the model and returns a dictionary with the prior probability, mean, and standard deviation of each class"
   ]
  },
  {
   "cell_type": "code",
   "execution_count": 38,
   "id": "868d787e",
   "metadata": {},
   "outputs": [],
   "source": [
    "def fit (X, y):\n",
    "        \n",
    "        separated_classes = separate_classes(X, y)\n",
    "        class_summary = {}\n",
    "\n",
    "        for class_name, feature_values in separated_classes.items():\n",
    "            class_summary[class_name] = {\n",
    "                'prior_proba': len(feature_values)/len(X),\n",
    "                'summary': [i for i in stat_info(feature_values)],\n",
    "            }\n",
    "        return class_summary\n"
   ]
  },
  {
   "attachments": {
    "image.png": {
     "image/png": "[encoded data removed]"
    }
   },
   "cell_type": "markdown",
   "id": "8e1a3429",
   "metadata": {},
   "source": [
    "### Calculate the Gaussian Distribution Function and return normal probability\n",
    "![image.png](attachment:image.png)\n"
   ]
  },
  {
   "cell_type": "code",
   "execution_count": 34,
   "id": "f4bff60e",
   "metadata": {},
   "outputs": [],
   "source": [
    "def distribution(x, mean, std):\n",
    "        \n",
    "        exponent = np.exp(-((x-mean)**2 / (2*std**2)))\n",
    "\n",
    "        return exponent / (np.sqrt(2*np.pi)*std)\n"
   ]
  },
  {
   "cell_type": "markdown",
   "id": "01c6ffd5",
   "metadata": {},
   "source": [
    "### Predict the class"
   ]
  },
  {
   "cell_type": "code",
   "execution_count": 54,
   "id": "0ad29bfb",
   "metadata": {},
   "outputs": [],
   "source": [
    "def predict(X,class_summary):\n",
    "    \n",
    "        MAPs = []# Maximum a posteriori (MAP)\n",
    "\n",
    "        for row in X:\n",
    "            joint_proba = {}\n",
    "            \n",
    "            for class_name, features in class_summary.items():\n",
    "                total_features =  len(features['summary'])\n",
    "                likelihood = 1\n",
    "\n",
    "                for idx in range(total_features):\n",
    "                    feature = row[idx]\n",
    "                    mean = features['summary'][idx]['mean']\n",
    "                    stdev = features['summary'][idx]['std']\n",
    "                    normal_proba = distribution(feature, mean, stdev)\n",
    "                    likelihood *= normal_proba\n",
    "                prior_proba = features['prior_proba']\n",
    "                joint_proba[class_name] = prior_proba * likelihood\n",
    "\n",
    "            MAP = max(joint_proba, key= joint_proba.get)\n",
    "            MAPs.append(MAP)\n",
    "\n",
    "        return MAPs"
   ]
  },
  {
   "cell_type": "code",
   "execution_count": 36,
   "id": "715d77f4",
   "metadata": {},
   "outputs": [],
   "source": [
    " def accuracy(y_test, y_pred):\n",
    "\n",
    "        true_true = 0\n",
    "\n",
    "        for y_t, y_p in zip(y_test, y_pred):\n",
    "            if y_t == y_p:\n",
    "                true_true += 1 \n",
    "        return true_true / len(y_test)"
   ]
  },
  {
   "cell_type": "code",
   "execution_count": 83,
   "id": "2db4b0bc",
   "metadata": {},
   "outputs": [],
   "source": [
    "def train_test_split(X, Y, split):\n",
    "\n",
    "    #split=size of test dataset\n",
    "    #randomly assigning split% rows to training set and rest to test set\n",
    "    indices = np.array(range(len(X)))\n",
    "    \n",
    "    train_size = round((1-split) * len(X))\n",
    "\n",
    "    random.shuffle(indices)\n",
    "\n",
    "    train_indices = indices[0:train_size]\n",
    "    test_indices = indices[train_size:len(X)]\n",
    "\n",
    "    X_train = X.iloc[train_indices, :]\n",
    "    X_test = X.iloc[test_indices, :]\n",
    "    Y_train = Y.iloc[train_indices]\n",
    "    Y_test = Y.iloc[test_indices]\n",
    "    \n",
    "    return np.asarray(X_train),np.asarray(X_test),np.asarray(Y_train),np.asarray(Y_test)"
   ]
  },
  {
   "cell_type": "code",
   "execution_count": 84,
   "id": "38c2cf4f",
   "metadata": {},
   "outputs": [],
   "source": [
    "X_train,x_test,Y_train,y_test=train_test_split(X,Y,split=0.2)"
   ]
  },
  {
   "cell_type": "code",
   "execution_count": 55,
   "id": "44d45983",
   "metadata": {},
   "outputs": [],
   "source": [
    "class_summary=fit(X_train,Y_train) "
   ]
  },
  {
   "cell_type": "code",
   "execution_count": 56,
   "id": "f5ed15a7",
   "metadata": {},
   "outputs": [
    {
     "name": "stderr",
     "output_type": "stream",
     "text": [
      "<ipython-input-34-3ec99afc63e6>:3: RuntimeWarning: invalid value encountered in double_scalars\n",
      "  exponent = np.exp(-((x-mean)**2 / (2*std**2)))\n"
     ]
    }
   ],
   "source": [
    "pred=predict(x_test,class_summary)"
   ]
  },
  {
   "cell_type": "markdown",
   "id": "2e63f190",
   "metadata": {},
   "source": [
    "## K-Nearest Neighbours implementation"
   ]
  },
  {
   "cell_type": "code",
   "execution_count": 113,
   "id": "13e62682",
   "metadata": {},
   "outputs": [],
   "source": [
    "def euclidian_distance(a, b):\n",
    "    \n",
    "    return np.sqrt(np.sum((a-b)**2, axis=1))## Calculates the euclidian distance"
   ]
  },
  {
   "cell_type": "code",
   "execution_count": 89,
   "id": "ebb429b4",
   "metadata": {},
   "outputs": [
    {
     "data": {
      "text/plain": [
       "array([[3, 0, 20.0, ..., 0, 7.8542, 2],\n",
       "       [3, 0, 22.0, ..., 0, 7.25, 2],\n",
       "       [2, 0, 50.0, ..., 0, 13.0, 2],\n",
       "       ...,\n",
       "       [3, 0, 29.666, ..., 0, 7.7875, 2],\n",
       "       [3, 0, 29.666, ..., 0, 14.4583, 2],\n",
       "       [2, 0, 57.0, ..., 0, 12.35, 2]], dtype=object)"
      ]
     },
     "execution_count": 89,
     "metadata": {},
     "output_type": "execute_result"
    }
   ],
   "source": [
    "x_test"
   ]
  },
  {
   "cell_type": "markdown",
   "id": "dfdb51bf",
   "metadata": {},
   "source": [
    "### return top k closest neigbours distance and their index"
   ]
  },
  {
   "cell_type": "code",
   "execution_count": 105,
   "id": "14bc76f4",
   "metadata": {},
   "outputs": [],
   "source": [
    "def K_neigbours(X_inp,K=3):\n",
    "    dist=[]\n",
    "    neigh_ind=[]\n",
    "    distances=[euclidian_distance(x, x_train) for x in X_inp]\n",
    "    #return distances\n",
    "    for d in distances:\n",
    "        enum_neigh = enumerate(d)\n",
    "        sorted_neigh = sorted(enum_neigh, key=lambda x: x[1])[:K]\n",
    "        ind_list = [x[0] for x in sorted_neigh]\n",
    "        dist_list = [x[1] for x in sorted_neigh]\n",
    "    \n",
    "        dist.append(dist_list)\n",
    "        neigh_ind.append(ind_list)\n",
    "    return dist,neigh_ind\n",
    "              "
   ]
  },
  {
   "cell_type": "markdown",
   "id": "ebfdbd56",
   "metadata": {},
   "source": [
    "### return the most frequent number in the list"
   ]
  },
  {
   "cell_type": "code",
   "execution_count": 106,
   "id": "09f8779f",
   "metadata": {},
   "outputs": [],
   "source": [
    "def most_frequent(List):\n",
    "    unique, counts = np.unique(List, return_counts=True)\n",
    "    index = np.argmax(counts)\n",
    "    return unique[index]"
   ]
  },
  {
   "cell_type": "markdown",
   "id": "df30d896",
   "metadata": {},
   "source": [
    "### Predict the labels"
   ]
  },
  {
   "cell_type": "code",
   "execution_count": 107,
   "id": "cb2a1d16",
   "metadata": {},
   "outputs": [],
   "source": [
    "def predict_neighbours(x,y_train):\n",
    "    dist,neigh=K_neigbours(x,K=5)\n",
    "    pred=[]\n",
    "    for row in neigh:\n",
    "        labels=y_train[row]\n",
    "        pred.append(most_frequent(labels))\n",
    "    return pred\n",
    "        \n",
    "        "
   ]
  },
  {
   "cell_type": "code",
   "execution_count": null,
   "id": "59a1671e",
   "metadata": {},
   "outputs": [],
   "source": []
  },
  {
   "cell_type": "code",
   "execution_count": 112,
   "id": "0e97d112",
   "metadata": {},
   "outputs": [
    {
     "data": {
      "text/plain": [
       "[0,\n",
       " 0,\n",
       " 0,\n",
       " 0,\n",
       " 1,\n",
       " 0,\n",
       " 1,\n",
       " 0,\n",
       " 1,\n",
       " 0,\n",
       " 0,\n",
       " 1,\n",
       " 0,\n",
       " 0,\n",
       " 0,\n",
       " 0,\n",
       " 1,\n",
       " 1,\n",
       " 0,\n",
       " 0,\n",
       " 0,\n",
       " 0,\n",
       " 0,\n",
       " 1,\n",
       " 0,\n",
       " 0,\n",
       " 1,\n",
       " 1,\n",
       " 1,\n",
       " 0,\n",
       " 0,\n",
       " 0,\n",
       " 0,\n",
       " 0,\n",
       " 1,\n",
       " 0,\n",
       " 1,\n",
       " 1,\n",
       " 1,\n",
       " 0,\n",
       " 0,\n",
       " 0,\n",
       " 0,\n",
       " 0,\n",
       " 0,\n",
       " 0,\n",
       " 0,\n",
       " 1,\n",
       " 0,\n",
       " 1,\n",
       " 0,\n",
       " 0,\n",
       " 0,\n",
       " 0,\n",
       " 0,\n",
       " 1,\n",
       " 0,\n",
       " 1,\n",
       " 0,\n",
       " 0,\n",
       " 1,\n",
       " 0,\n",
       " 0,\n",
       " 0,\n",
       " 1,\n",
       " 1,\n",
       " 0,\n",
       " 0,\n",
       " 0,\n",
       " 0,\n",
       " 0,\n",
       " 1,\n",
       " 0,\n",
       " 0,\n",
       " 0,\n",
       " 1,\n",
       " 1,\n",
       " 0,\n",
       " 0,\n",
       " 0,\n",
       " 0,\n",
       " 0,\n",
       " 1,\n",
       " 0,\n",
       " 0,\n",
       " 1,\n",
       " 0,\n",
       " 0,\n",
       " 0,\n",
       " 0,\n",
       " 0,\n",
       " 0,\n",
       " 0,\n",
       " 0,\n",
       " 0,\n",
       " 1,\n",
       " 0,\n",
       " 0,\n",
       " 0,\n",
       " 0,\n",
       " 0,\n",
       " 0,\n",
       " 1,\n",
       " 0,\n",
       " 1,\n",
       " 0,\n",
       " 0,\n",
       " 0,\n",
       " 0,\n",
       " 0,\n",
       " 0,\n",
       " 0,\n",
       " 0,\n",
       " 0,\n",
       " 0,\n",
       " 1,\n",
       " 0,\n",
       " 1,\n",
       " 1,\n",
       " 1,\n",
       " 0,\n",
       " 0,\n",
       " 1,\n",
       " 0,\n",
       " 0,\n",
       " 0,\n",
       " 0,\n",
       " 0,\n",
       " 1,\n",
       " 0,\n",
       " 1,\n",
       " 0,\n",
       " 0,\n",
       " 0,\n",
       " 1,\n",
       " 1,\n",
       " 0,\n",
       " 0,\n",
       " 0,\n",
       " 1,\n",
       " 1,\n",
       " 0,\n",
       " 0,\n",
       " 1,\n",
       " 0,\n",
       " 1,\n",
       " 0,\n",
       " 0,\n",
       " 0,\n",
       " 0,\n",
       " 0,\n",
       " 0,\n",
       " 0,\n",
       " 0,\n",
       " 0,\n",
       " 1,\n",
       " 0,\n",
       " 1,\n",
       " 0,\n",
       " 0,\n",
       " 0,\n",
       " 0,\n",
       " 1,\n",
       " 0,\n",
       " 0,\n",
       " 1,\n",
       " 0,\n",
       " 0,\n",
       " 1,\n",
       " 0,\n",
       " 0,\n",
       " 0,\n",
       " 0,\n",
       " 1,\n",
       " 0,\n",
       " 1,\n",
       " 0,\n",
       " 0]"
      ]
     },
     "execution_count": 112,
     "metadata": {},
     "output_type": "execute_result"
    }
   ],
   "source": [
    "pred_neighbours"
   ]
  },
  {
   "cell_type": "code",
   "execution_count": 114,
   "id": "469d3ad0",
   "metadata": {},
   "outputs": [
    {
     "data": {
      "text/plain": [
       "0.5730337078651685"
      ]
     },
     "execution_count": 114,
     "metadata": {},
     "output_type": "execute_result"
    }
   ],
   "source": [
    "accuracy(y_test,pred_neighbours)"
   ]
  },
  {
   "cell_type": "code",
   "execution_count": null,
   "id": "c3fd5ab7",
   "metadata": {},
   "outputs": [],
   "source": []
  }
 ],
 "metadata": {
  "kernelspec": {
   "display_name": "Python 3",
   "language": "python",
   "name": "python3"
  },
  "language_info": {
   "codemirror_mode": {
    "name": "ipython",
    "version": 3
   },
   "file_extension": ".py",
   "mimetype": "text/x-python",
   "name": "python",
   "nbconvert_exporter": "python",
   "pygments_lexer": "ipython3",
   "version": "3.8.8"
  }
 },
 "nbformat": 4,
 "nbformat_minor": 5
}
